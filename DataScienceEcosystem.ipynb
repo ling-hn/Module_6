{
 "cells": [
  {
   "cell_type": "markdown",
   "id": "28975bf3-9b02-4eb4-a915-a7f5bcc7dd32",
   "metadata": {},
   "source": [
    "# Data Science Tools and Ecosystem"
   ]
  },
  {
   "cell_type": "markdown",
   "id": "e331f020-9ecf-4517-ba5e-d14b6a04dddb",
   "metadata": {
    "tags": []
   },
   "source": [
    "## Author\n",
    "\n",
    "L. Huang"
   ]
  },
  {
   "cell_type": "markdown",
   "id": "defddecf-55d9-4b35-819d-bfc6e041b217",
   "metadata": {},
   "source": [
    "In this notebook, Data Science Tools and Ecosystem are summarized."
   ]
  },
  {
   "cell_type": "markdown",
   "id": "e73aaa33-d045-404c-bb4c-759238ed2448",
   "metadata": {
    "tags": []
   },
   "source": [
    "**Objectives:**\n",
    "\n",
    "- List popular languages for Data Science\n",
    "- Explore commonly used libraries in Data Science\n",
    "- Convert time from minutes to hours using a Python expression\n",
    "- Perform simple arithmetic operations\n",
    "- Understand development environments used in Data Science"
   ]
  },
  {
   "cell_type": "markdown",
   "id": "1d0bfc5d-9a97-4224-af3c-b508692fba29",
   "metadata": {},
   "source": [
    "Some of the popular languages that Data Scientists use are:\n",
    "\n",
    "1. **Python** – Widely used for data manipulation, machine learning, and deep learning with libraries like Pandas, NumPy, and TensorFlow.\n",
    "2. **R** – Specialized in statistical analysis, data visualization, and has extensive packages like ggplot2 and caret.\n",
    "3. **SQL** – Essential for managing and querying databases, often used to handle large datasets in data science workflows. \n"
   ]
  },
  {
   "cell_type": "markdown",
   "id": "902e8722-0442-4cc2-aa91-9a942933efff",
   "metadata": {},
   "source": [
    "Some of the commonly used libraries used by Data Scientists include:\n",
    "\n",
    "1. **Scientific Computing Libraries**\n",
    "   - **Pandas**: Tools for data manipulation and analysis; built on NumPy; uses DataFrames for easy data handling.\n",
    "   - **NumPy**: Provides array and matrix data structures, enabling mathematical functions on arrays.\n",
    "\n",
    "2. **Visualization Libraries**\n",
    "   - **Matplotlib**: Popular for creating customizable graphs and plots.\n",
    "   - **Seaborn**: Built on Matplotlib, used for advanced visualizations like heat maps, time series, and violin plots.\n",
    "\n",
    "3. **High-Level Machine Learning Libraries**\n",
    "   - **Scikit-learn**: Tools for regression, classification, and clustering; built on NumPy, SciPy, and Matplotlib.\n",
    "\n",
    "4. **Deep Learning Libraries**\n",
    "   - **Keras**: High-level API for building deep learning models quickly and simply.\n",
    "   - **TensorFlow**: Low-level framework for building large-scale, production-ready deep learning models.\n",
    "   - **PyTorch**: More flexible than TensorFlow; ideal for experimentation and research.\n"
   ]
  },
  {
   "cell_type": "markdown",
   "id": "18708e56-ceed-41a9-aa4b-e7d3a69dc131",
   "metadata": {
    "tags": []
   },
   "source": [
    "| **Data Science Tools**        |\n",
    "|-------------------------------|\n",
    "| Jupyter Notebooks              |\n",
    "| RStudio                        |\n",
    "| Apache Zeppelin                |\n"
   ]
  },
  {
   "cell_type": "markdown",
   "id": "eb00c669-f84a-41a1-afdb-5bcf87ceb8bb",
   "metadata": {},
   "source": [
    "### Below are a few examples of evaluating arithmetic expressions in Python"
   ]
  },
  {
   "cell_type": "code",
   "execution_count": 10,
   "id": "8e629c6b-fabe-4f69-8218-e01e309a7f76",
   "metadata": {
    "tags": []
   },
   "outputs": [
    {
     "data": {
      "text/plain": [
       "17"
      ]
     },
     "execution_count": 10,
     "metadata": {},
     "output_type": "execute_result"
    }
   ],
   "source": [
    "# This is a simple arithmetic expression to multiply then add integers\n",
    "result = (3 * 4) + 5\n",
    "result"
   ]
  },
  {
   "cell_type": "code",
   "execution_count": 9,
   "id": "063aff04-1435-4042-968d-c8cab9be926d",
   "metadata": {
    "tags": []
   },
   "outputs": [
    {
     "data": {
      "text/plain": [
       "3.3333333333333335"
      ]
     },
     "execution_count": 9,
     "metadata": {},
     "output_type": "execute_result"
    }
   ],
   "source": [
    "# This will convert 200 minutes to hours by diving by 60\n",
    "minutes = 200\n",
    "hours = minutes / 60\n",
    "hours"
   ]
  },
  {
   "cell_type": "code",
   "execution_count": null,
   "id": "b0c8e69b-69e6-47f4-bb70-86e7ee187d35",
   "metadata": {},
   "outputs": [],
   "source": []
  }
 ],
 "metadata": {
  "kernelspec": {
   "display_name": "Python",
   "language": "python",
   "name": "conda-env-python-py"
  },
  "language_info": {
   "codemirror_mode": {
    "name": "ipython",
    "version": 3
   },
   "file_extension": ".py",
   "mimetype": "text/x-python",
   "name": "python",
   "nbconvert_exporter": "python",
   "pygments_lexer": "ipython3",
   "version": "3.7.12"
  }
 },
 "nbformat": 4,
 "nbformat_minor": 5
}
